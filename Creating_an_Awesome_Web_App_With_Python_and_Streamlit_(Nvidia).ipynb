{
  "nbformat": 4,
  "nbformat_minor": 0,
  "metadata": {
    "colab": {
      "provenance": [],
      "authorship_tag": "ABX9TyOPMOj8lw4JQWz97SkGhkqG",
      "include_colab_link": true
    },
    "kernelspec": {
      "name": "python3",
      "display_name": "Python 3"
    },
    "language_info": {
      "name": "python"
    }
  },
  "cells": [
    {
      "cell_type": "markdown",
      "metadata": {
        "id": "view-in-github",
        "colab_type": "text"
      },
      "source": [
        "<a href=\"https://colab.research.google.com/github/hrmd/Web-App-With-Python-and-Streamlit/blob/main/Creating_an_Awesome_Web_App_With_Python_and_Streamlit_(Nvidia).ipynb\" target=\"_parent\"><img src=\"https://colab.research.google.com/assets/colab-badge.svg\" alt=\"Open In Colab\"/></a>"
      ]
    },
    {
      "cell_type": "markdown",
      "source": [
        "Medium: https://python.plainenglish.io/creating-an-awesome-web-app-with-python-and-streamlit-728fe100cf7\n",
        "\n",
        "Kaggle: https://www.kaggle.com/datasets/kalilurrahman/nvidia-stock-data-latest-and-updated"
      ],
      "metadata": {
        "id": "0FRpPAvpNjh1"
      }
    },
    {
      "cell_type": "code",
      "execution_count": null,
      "metadata": {
        "colab": {
          "base_uri": "https://localhost:8080/",
          "height": 641
        },
        "id": "3zbVbrNqFoum",
        "outputId": "98d28a6a-05a6-4c9b-e5c6-a81196299638"
      },
      "outputs": [
        {
          "output_type": "stream",
          "name": "stdout",
          "text": [
            "\u001b[K     |████████████████████████████████| 9.2 MB 5.3 MB/s \n",
            "\u001b[K     |████████████████████████████████| 78 kB 2.8 MB/s \n",
            "\u001b[K     |████████████████████████████████| 4.7 MB 38.9 MB/s \n",
            "\u001b[K     |████████████████████████████████| 164 kB 58.6 MB/s \n",
            "\u001b[K     |████████████████████████████████| 237 kB 56.1 MB/s \n",
            "\u001b[K     |████████████████████████████████| 182 kB 54.5 MB/s \n",
            "\u001b[K     |████████████████████████████████| 62 kB 846 kB/s \n",
            "\u001b[K     |████████████████████████████████| 51 kB 4.2 MB/s \n",
            "\u001b[?25h  Building wheel for validators (setup.py) ... \u001b[?25l\u001b[?25hdone\n",
            "Looking in indexes: https://pypi.org/simple, https://us-python.pkg.dev/colab-wheels/public/simple/\n",
            "Collecting tornado==5.1\n",
            "  Downloading tornado-5.1.tar.gz (516 kB)\n",
            "\u001b[K     |████████████████████████████████| 516 kB 6.8 MB/s \n",
            "\u001b[?25hBuilding wheels for collected packages: tornado\n",
            "  Building wheel for tornado (setup.py) ... \u001b[?25l\u001b[?25hdone\n",
            "  Created wheel for tornado: filename=tornado-5.1-cp38-cp38-linux_x86_64.whl size=461813 sha256=70a849a4820ed150b7537ade72d71f0a1ab5e0278b01f8416b18bfebb71c8a2b\n",
            "  Stored in directory: /root/.cache/pip/wheels/f7/51/7a/a7b5f4af2fa1367a6d2cf9c402758918559c80c4f545fa99b4\n",
            "Successfully built tornado\n",
            "Installing collected packages: tornado\n",
            "  Attempting uninstall: tornado\n",
            "    Found existing installation: tornado 6.0.4\n",
            "    Uninstalling tornado-6.0.4:\n",
            "      Successfully uninstalled tornado-6.0.4\n",
            "\u001b[31mERROR: pip's dependency resolver does not currently take into account all the packages that are installed. This behaviour is the source of the following dependency conflicts.\n",
            "google-colab 1.0.0 requires tornado~=6.0.4, but you have tornado 5.1 which is incompatible.\n",
            "distributed 2022.2.0 requires tornado>=6.0.3; python_version >= \"3.8\", but you have tornado 5.1 which is incompatible.\u001b[0m\n",
            "Successfully installed tornado-5.1\n"
          ]
        },
        {
          "output_type": "display_data",
          "data": {
            "application/vnd.colab-display-data+json": {
              "pip_warning": {
                "packages": [
                  "tornado"
                ]
              }
            }
          },
          "metadata": {}
        }
      ],
      "source": [
        "!pip install streamlit -q\n",
        "!pip install tornado==5.1"
      ]
    },
    {
      "cell_type": "code",
      "source": [
        "import streamlit as st\n",
        "import pandas as pd\n",
        "import numpy as np\n",
        "import matplotlib.pyplot as plt\n",
        "import datetime"
      ],
      "metadata": {
        "id": "5CHNoUqfI3yd"
      },
      "execution_count": null,
      "outputs": []
    },
    {
      "cell_type": "code",
      "source": [
        "from google.colab import files \n",
        "uploaded = files.upload()"
      ],
      "metadata": {
        "colab": {
          "base_uri": "https://localhost:8080/",
          "height": 73
        },
        "id": "GcP4dlqoJIG3",
        "outputId": "781867a0-cb57-4871-d098-ef1f0ba65ea5"
      },
      "execution_count": null,
      "outputs": [
        {
          "output_type": "display_data",
          "data": {
            "text/plain": [
              "<IPython.core.display.HTML object>"
            ],
            "text/html": [
              "\n",
              "     <input type=\"file\" id=\"files-9ac87e27-3157-44a2-8084-ba602de125b4\" name=\"files[]\" multiple disabled\n",
              "        style=\"border:none\" />\n",
              "     <output id=\"result-9ac87e27-3157-44a2-8084-ba602de125b4\">\n",
              "      Upload widget is only available when the cell has been executed in the\n",
              "      current browser session. Please rerun this cell to enable.\n",
              "      </output>\n",
              "      <script>// Copyright 2017 Google LLC\n",
              "//\n",
              "// Licensed under the Apache License, Version 2.0 (the \"License\");\n",
              "// you may not use this file except in compliance with the License.\n",
              "// You may obtain a copy of the License at\n",
              "//\n",
              "//      http://www.apache.org/licenses/LICENSE-2.0\n",
              "//\n",
              "// Unless required by applicable law or agreed to in writing, software\n",
              "// distributed under the License is distributed on an \"AS IS\" BASIS,\n",
              "// WITHOUT WARRANTIES OR CONDITIONS OF ANY KIND, either express or implied.\n",
              "// See the License for the specific language governing permissions and\n",
              "// limitations under the License.\n",
              "\n",
              "/**\n",
              " * @fileoverview Helpers for google.colab Python module.\n",
              " */\n",
              "(function(scope) {\n",
              "function span(text, styleAttributes = {}) {\n",
              "  const element = document.createElement('span');\n",
              "  element.textContent = text;\n",
              "  for (const key of Object.keys(styleAttributes)) {\n",
              "    element.style[key] = styleAttributes[key];\n",
              "  }\n",
              "  return element;\n",
              "}\n",
              "\n",
              "// Max number of bytes which will be uploaded at a time.\n",
              "const MAX_PAYLOAD_SIZE = 100 * 1024;\n",
              "\n",
              "function _uploadFiles(inputId, outputId) {\n",
              "  const steps = uploadFilesStep(inputId, outputId);\n",
              "  const outputElement = document.getElementById(outputId);\n",
              "  // Cache steps on the outputElement to make it available for the next call\n",
              "  // to uploadFilesContinue from Python.\n",
              "  outputElement.steps = steps;\n",
              "\n",
              "  return _uploadFilesContinue(outputId);\n",
              "}\n",
              "\n",
              "// This is roughly an async generator (not supported in the browser yet),\n",
              "// where there are multiple asynchronous steps and the Python side is going\n",
              "// to poll for completion of each step.\n",
              "// This uses a Promise to block the python side on completion of each step,\n",
              "// then passes the result of the previous step as the input to the next step.\n",
              "function _uploadFilesContinue(outputId) {\n",
              "  const outputElement = document.getElementById(outputId);\n",
              "  const steps = outputElement.steps;\n",
              "\n",
              "  const next = steps.next(outputElement.lastPromiseValue);\n",
              "  return Promise.resolve(next.value.promise).then((value) => {\n",
              "    // Cache the last promise value to make it available to the next\n",
              "    // step of the generator.\n",
              "    outputElement.lastPromiseValue = value;\n",
              "    return next.value.response;\n",
              "  });\n",
              "}\n",
              "\n",
              "/**\n",
              " * Generator function which is called between each async step of the upload\n",
              " * process.\n",
              " * @param {string} inputId Element ID of the input file picker element.\n",
              " * @param {string} outputId Element ID of the output display.\n",
              " * @return {!Iterable<!Object>} Iterable of next steps.\n",
              " */\n",
              "function* uploadFilesStep(inputId, outputId) {\n",
              "  const inputElement = document.getElementById(inputId);\n",
              "  inputElement.disabled = false;\n",
              "\n",
              "  const outputElement = document.getElementById(outputId);\n",
              "  outputElement.innerHTML = '';\n",
              "\n",
              "  const pickedPromise = new Promise((resolve) => {\n",
              "    inputElement.addEventListener('change', (e) => {\n",
              "      resolve(e.target.files);\n",
              "    });\n",
              "  });\n",
              "\n",
              "  const cancel = document.createElement('button');\n",
              "  inputElement.parentElement.appendChild(cancel);\n",
              "  cancel.textContent = 'Cancel upload';\n",
              "  const cancelPromise = new Promise((resolve) => {\n",
              "    cancel.onclick = () => {\n",
              "      resolve(null);\n",
              "    };\n",
              "  });\n",
              "\n",
              "  // Wait for the user to pick the files.\n",
              "  const files = yield {\n",
              "    promise: Promise.race([pickedPromise, cancelPromise]),\n",
              "    response: {\n",
              "      action: 'starting',\n",
              "    }\n",
              "  };\n",
              "\n",
              "  cancel.remove();\n",
              "\n",
              "  // Disable the input element since further picks are not allowed.\n",
              "  inputElement.disabled = true;\n",
              "\n",
              "  if (!files) {\n",
              "    return {\n",
              "      response: {\n",
              "        action: 'complete',\n",
              "      }\n",
              "    };\n",
              "  }\n",
              "\n",
              "  for (const file of files) {\n",
              "    const li = document.createElement('li');\n",
              "    li.append(span(file.name, {fontWeight: 'bold'}));\n",
              "    li.append(span(\n",
              "        `(${file.type || 'n/a'}) - ${file.size} bytes, ` +\n",
              "        `last modified: ${\n",
              "            file.lastModifiedDate ? file.lastModifiedDate.toLocaleDateString() :\n",
              "                                    'n/a'} - `));\n",
              "    const percent = span('0% done');\n",
              "    li.appendChild(percent);\n",
              "\n",
              "    outputElement.appendChild(li);\n",
              "\n",
              "    const fileDataPromise = new Promise((resolve) => {\n",
              "      const reader = new FileReader();\n",
              "      reader.onload = (e) => {\n",
              "        resolve(e.target.result);\n",
              "      };\n",
              "      reader.readAsArrayBuffer(file);\n",
              "    });\n",
              "    // Wait for the data to be ready.\n",
              "    let fileData = yield {\n",
              "      promise: fileDataPromise,\n",
              "      response: {\n",
              "        action: 'continue',\n",
              "      }\n",
              "    };\n",
              "\n",
              "    // Use a chunked sending to avoid message size limits. See b/62115660.\n",
              "    let position = 0;\n",
              "    do {\n",
              "      const length = Math.min(fileData.byteLength - position, MAX_PAYLOAD_SIZE);\n",
              "      const chunk = new Uint8Array(fileData, position, length);\n",
              "      position += length;\n",
              "\n",
              "      const base64 = btoa(String.fromCharCode.apply(null, chunk));\n",
              "      yield {\n",
              "        response: {\n",
              "          action: 'append',\n",
              "          file: file.name,\n",
              "          data: base64,\n",
              "        },\n",
              "      };\n",
              "\n",
              "      let percentDone = fileData.byteLength === 0 ?\n",
              "          100 :\n",
              "          Math.round((position / fileData.byteLength) * 100);\n",
              "      percent.textContent = `${percentDone}% done`;\n",
              "\n",
              "    } while (position < fileData.byteLength);\n",
              "  }\n",
              "\n",
              "  // All done.\n",
              "  yield {\n",
              "    response: {\n",
              "      action: 'complete',\n",
              "    }\n",
              "  };\n",
              "}\n",
              "\n",
              "scope.google = scope.google || {};\n",
              "scope.google.colab = scope.google.colab || {};\n",
              "scope.google.colab._files = {\n",
              "  _uploadFiles,\n",
              "  _uploadFilesContinue,\n",
              "};\n",
              "})(self);\n",
              "</script> "
            ]
          },
          "metadata": {}
        },
        {
          "output_type": "stream",
          "name": "stdout",
          "text": [
            "Saving NVidia_stock_history.csv to NVidia_stock_history.csv\n"
          ]
        }
      ]
    },
    {
      "cell_type": "code",
      "source": [
        "df = pd.read_csv('NVidia_stock_history.csv')"
      ],
      "metadata": {
        "id": "arJ6AIpaJgwX"
      },
      "execution_count": null,
      "outputs": []
    },
    {
      "cell_type": "code",
      "source": [
        "# Delete rows where date is before 1/1/2019.\n",
        "df['Date'] = pd.to_datetime(df['Date'])\n",
        "df = df[~(df['Date'] < '2019-01-01')]\n",
        "df.head()"
      ],
      "metadata": {
        "colab": {
          "base_uri": "https://localhost:8080/",
          "height": 206
        },
        "id": "h0QVJvZ0JoH1",
        "outputId": "8ff7402c-97b9-4dd9-c8a8-0817ee174687"
      },
      "execution_count": null,
      "outputs": [
        {
          "output_type": "execute_result",
          "data": {
            "text/plain": [
              "           Date       Open       High        Low      Close      Volume  \\\n",
              "5019 2019-01-02  32.454992  34.402688  32.308419  33.841236  50875200.0   \n",
              "5020 2019-01-03  33.237537  33.577890  31.722112  31.796640  70555200.0   \n",
              "5021 2019-01-04  32.529514  34.216356  32.221458  33.833775  58562000.0   \n",
              "5022 2019-01-07  34.407649  35.995121  33.893396  35.624958  70916000.0   \n",
              "5023 2019-01-08  36.442294  36.464652  34.010156  34.738060  78601600.0   \n",
              "\n",
              "      Dividends  Stock Splits  \n",
              "5019        0.0           0.0  \n",
              "5020        0.0           0.0  \n",
              "5021        0.0           0.0  \n",
              "5022        0.0           0.0  \n",
              "5023        0.0           0.0  "
            ],
            "text/html": [
              "\n",
              "  <div id=\"df-e9ceccf7-0939-43bd-ab9a-32ea1774ab02\">\n",
              "    <div class=\"colab-df-container\">\n",
              "      <div>\n",
              "<style scoped>\n",
              "    .dataframe tbody tr th:only-of-type {\n",
              "        vertical-align: middle;\n",
              "    }\n",
              "\n",
              "    .dataframe tbody tr th {\n",
              "        vertical-align: top;\n",
              "    }\n",
              "\n",
              "    .dataframe thead th {\n",
              "        text-align: right;\n",
              "    }\n",
              "</style>\n",
              "<table border=\"1\" class=\"dataframe\">\n",
              "  <thead>\n",
              "    <tr style=\"text-align: right;\">\n",
              "      <th></th>\n",
              "      <th>Date</th>\n",
              "      <th>Open</th>\n",
              "      <th>High</th>\n",
              "      <th>Low</th>\n",
              "      <th>Close</th>\n",
              "      <th>Volume</th>\n",
              "      <th>Dividends</th>\n",
              "      <th>Stock Splits</th>\n",
              "    </tr>\n",
              "  </thead>\n",
              "  <tbody>\n",
              "    <tr>\n",
              "      <th>5019</th>\n",
              "      <td>2019-01-02</td>\n",
              "      <td>32.454992</td>\n",
              "      <td>34.402688</td>\n",
              "      <td>32.308419</td>\n",
              "      <td>33.841236</td>\n",
              "      <td>50875200.0</td>\n",
              "      <td>0.0</td>\n",
              "      <td>0.0</td>\n",
              "    </tr>\n",
              "    <tr>\n",
              "      <th>5020</th>\n",
              "      <td>2019-01-03</td>\n",
              "      <td>33.237537</td>\n",
              "      <td>33.577890</td>\n",
              "      <td>31.722112</td>\n",
              "      <td>31.796640</td>\n",
              "      <td>70555200.0</td>\n",
              "      <td>0.0</td>\n",
              "      <td>0.0</td>\n",
              "    </tr>\n",
              "    <tr>\n",
              "      <th>5021</th>\n",
              "      <td>2019-01-04</td>\n",
              "      <td>32.529514</td>\n",
              "      <td>34.216356</td>\n",
              "      <td>32.221458</td>\n",
              "      <td>33.833775</td>\n",
              "      <td>58562000.0</td>\n",
              "      <td>0.0</td>\n",
              "      <td>0.0</td>\n",
              "    </tr>\n",
              "    <tr>\n",
              "      <th>5022</th>\n",
              "      <td>2019-01-07</td>\n",
              "      <td>34.407649</td>\n",
              "      <td>35.995121</td>\n",
              "      <td>33.893396</td>\n",
              "      <td>35.624958</td>\n",
              "      <td>70916000.0</td>\n",
              "      <td>0.0</td>\n",
              "      <td>0.0</td>\n",
              "    </tr>\n",
              "    <tr>\n",
              "      <th>5023</th>\n",
              "      <td>2019-01-08</td>\n",
              "      <td>36.442294</td>\n",
              "      <td>36.464652</td>\n",
              "      <td>34.010156</td>\n",
              "      <td>34.738060</td>\n",
              "      <td>78601600.0</td>\n",
              "      <td>0.0</td>\n",
              "      <td>0.0</td>\n",
              "    </tr>\n",
              "  </tbody>\n",
              "</table>\n",
              "</div>\n",
              "      <button class=\"colab-df-convert\" onclick=\"convertToInteractive('df-e9ceccf7-0939-43bd-ab9a-32ea1774ab02')\"\n",
              "              title=\"Convert this dataframe to an interactive table.\"\n",
              "              style=\"display:none;\">\n",
              "        \n",
              "  <svg xmlns=\"http://www.w3.org/2000/svg\" height=\"24px\"viewBox=\"0 0 24 24\"\n",
              "       width=\"24px\">\n",
              "    <path d=\"M0 0h24v24H0V0z\" fill=\"none\"/>\n",
              "    <path d=\"M18.56 5.44l.94 2.06.94-2.06 2.06-.94-2.06-.94-.94-2.06-.94 2.06-2.06.94zm-11 1L8.5 8.5l.94-2.06 2.06-.94-2.06-.94L8.5 2.5l-.94 2.06-2.06.94zm10 10l.94 2.06.94-2.06 2.06-.94-2.06-.94-.94-2.06-.94 2.06-2.06.94z\"/><path d=\"M17.41 7.96l-1.37-1.37c-.4-.4-.92-.59-1.43-.59-.52 0-1.04.2-1.43.59L10.3 9.45l-7.72 7.72c-.78.78-.78 2.05 0 2.83L4 21.41c.39.39.9.59 1.41.59.51 0 1.02-.2 1.41-.59l7.78-7.78 2.81-2.81c.8-.78.8-2.07 0-2.86zM5.41 20L4 18.59l7.72-7.72 1.47 1.35L5.41 20z\"/>\n",
              "  </svg>\n",
              "      </button>\n",
              "      \n",
              "  <style>\n",
              "    .colab-df-container {\n",
              "      display:flex;\n",
              "      flex-wrap:wrap;\n",
              "      gap: 12px;\n",
              "    }\n",
              "\n",
              "    .colab-df-convert {\n",
              "      background-color: #E8F0FE;\n",
              "      border: none;\n",
              "      border-radius: 50%;\n",
              "      cursor: pointer;\n",
              "      display: none;\n",
              "      fill: #1967D2;\n",
              "      height: 32px;\n",
              "      padding: 0 0 0 0;\n",
              "      width: 32px;\n",
              "    }\n",
              "\n",
              "    .colab-df-convert:hover {\n",
              "      background-color: #E2EBFA;\n",
              "      box-shadow: 0px 1px 2px rgba(60, 64, 67, 0.3), 0px 1px 3px 1px rgba(60, 64, 67, 0.15);\n",
              "      fill: #174EA6;\n",
              "    }\n",
              "\n",
              "    [theme=dark] .colab-df-convert {\n",
              "      background-color: #3B4455;\n",
              "      fill: #D2E3FC;\n",
              "    }\n",
              "\n",
              "    [theme=dark] .colab-df-convert:hover {\n",
              "      background-color: #434B5C;\n",
              "      box-shadow: 0px 1px 3px 1px rgba(0, 0, 0, 0.15);\n",
              "      filter: drop-shadow(0px 1px 2px rgba(0, 0, 0, 0.3));\n",
              "      fill: #FFFFFF;\n",
              "    }\n",
              "  </style>\n",
              "\n",
              "      <script>\n",
              "        const buttonEl =\n",
              "          document.querySelector('#df-e9ceccf7-0939-43bd-ab9a-32ea1774ab02 button.colab-df-convert');\n",
              "        buttonEl.style.display =\n",
              "          google.colab.kernel.accessAllowed ? 'block' : 'none';\n",
              "\n",
              "        async function convertToInteractive(key) {\n",
              "          const element = document.querySelector('#df-e9ceccf7-0939-43bd-ab9a-32ea1774ab02');\n",
              "          const dataTable =\n",
              "            await google.colab.kernel.invokeFunction('convertToInteractive',\n",
              "                                                     [key], {});\n",
              "          if (!dataTable) return;\n",
              "\n",
              "          const docLinkHtml = 'Like what you see? Visit the ' +\n",
              "            '<a target=\"_blank\" href=https://colab.research.google.com/notebooks/data_table.ipynb>data table notebook</a>'\n",
              "            + ' to learn more about interactive tables.';\n",
              "          element.innerHTML = '';\n",
              "          dataTable['output_type'] = 'display_data';\n",
              "          await google.colab.output.renderOutput(dataTable, element);\n",
              "          const docLink = document.createElement('div');\n",
              "          docLink.innerHTML = docLinkHtml;\n",
              "          element.appendChild(docLink);\n",
              "        }\n",
              "      </script>\n",
              "    </div>\n",
              "  </div>\n",
              "  "
            ]
          },
          "metadata": {},
          "execution_count": 4
        }
      ]
    },
    {
      "cell_type": "code",
      "source": [
        "# Reset the index to the Date column. \n",
        "df['Date'] = pd.to_datetime(df['Date'],format='%Y/%m/%d')\n",
        "df.reset_index(drop=True,inplace=True)\n",
        "df.set_index('Date',inplace=True)"
      ],
      "metadata": {
        "id": "oIFIik98JuWn"
      },
      "execution_count": null,
      "outputs": []
    },
    {
      "cell_type": "code",
      "source": [
        "# Specify the title and logo for the web page.\n",
        "st.set_page_config(page_title='Nvidia Stock Prices', \n",
        "page_icon='https://cdn.freebiesupply.com/logos/thumbs/1x/nvidia-logo.png', layout=\"wide\")"
      ],
      "metadata": {
        "id": "GzX0HKhiJy4C"
      },
      "execution_count": null,
      "outputs": []
    },
    {
      "cell_type": "code",
      "source": [
        "# Add social media tags and links to the web page.\n",
        "\"\"\"\n",
        "[![Star](https://img.shields.io/badge/Medium-12100E?style=for-the-badge&logo=medium&logoColor=white)](https://medium.com/@hugodaher)\n",
        "[![Follow](https://img.shields.io/badge/LinkedIn-0077B5?style=for-the-badge&logo=linkedin&logoColor=white)](https://www.linkedin.com/in/hugodaher)\n",
        "[![Follow](https://img.shields.io/badge/Twitter-1DA1F2?style=for-the-badge&logo=twitter&logoColor=white)](https://twitter.com/hugodaher)\n",
        "\n",
        "# Nvidia's Stock Performance\n",
        "\n",
        "\"\"\""
      ],
      "metadata": {
        "colab": {
          "base_uri": "https://localhost:8080/",
          "height": 70
        },
        "id": "44pi4cWlJ5KI",
        "outputId": "a5d02ec0-9f67-4540-cc41-d4c0d42f6077"
      },
      "execution_count": null,
      "outputs": [
        {
          "output_type": "execute_result",
          "data": {
            "text/plain": [
              "\"\\n[![Star](https://img.shields.io/badge/Medium-12100E?style=for-the-badge&logo=medium&logoColor=white)](https://medium.com/@hugodaher)\\n[![Follow](https://img.shields.io/badge/LinkedIn-0077B5?style=for-the-badge&logo=linkedin&logoColor=white)](https://www.linkedin.com/in/hugodaher)\\n[![Follow](https://img.shields.io/badge/Twitter-1DA1F2?style=for-the-badge&logo=twitter&logoColor=white)](https://twitter.com/hugodaher)\\n\\n# Nvidia's Stock Performance\\n\\n\""
            ],
            "application/vnd.google.colaboratory.intrinsic+json": {
              "type": "string"
            }
          },
          "metadata": {},
          "execution_count": 7
        }
      ]
    },
    {
      "cell_type": "code",
      "source": [
        "# Add a sidebar to the web page. \n",
        "st.markdown('---')\n",
        "# Sidebar Configuration\n",
        "st.sidebar.image('https://cdn.freebiesupply.com/logos/thumbs/1x/nvidia-logo.png', width=200)\n",
        "st.sidebar.markdown('# Nvidia Stock Price Analysis')\n",
        "st.sidebar.markdown('Nvidia is a global leader in artificial intelligence hardware and software.')\n",
        "st.sidebar.markdown('Stock Data from 2019 thru 2021')\n",
        "st.sidebar.markdown('You can visualise Nvidia \\'s Stock Prices Trends and Patterns over a given time span.') \n",
        "\n",
        "st.sidebar.markdown('---')\n",
        "st.sidebar.write('Developed by Hugo Daher')\n",
        "st.sidebar.write('Contact at hugodaher@hotmail.com')"
      ],
      "metadata": {
        "colab": {
          "base_uri": "https://localhost:8080/"
        },
        "id": "5DO4ngYhKUlR",
        "outputId": "9b82185a-738c-4a1e-af05-eefa5ca6230b"
      },
      "execution_count": null,
      "outputs": [
        {
          "output_type": "stream",
          "name": "stderr",
          "text": [
            "WARNING:root:\n",
            "  \u001b[33m\u001b[1mWarning:\u001b[0m to view this Streamlit app on a browser, run it with the following\n",
            "  command:\n",
            "\n",
            "    streamlit run /usr/local/lib/python3.8/dist-packages/ipykernel_launcher.py [ARGUMENTS]\n",
            "2022-12-05 07:24:30.334 \n",
            "  \u001b[33m\u001b[1mWarning:\u001b[0m to view this Streamlit app on a browser, run it with the following\n",
            "  command:\n",
            "\n",
            "    streamlit run /usr/local/lib/python3.8/dist-packages/ipykernel_launcher.py [ARGUMENTS]\n"
          ]
        }
      ]
    },
    {
      "cell_type": "code",
      "source": [
        "# Display the Data in the App.\n",
        "st.subheader('Looking at the Data')\n",
        "st.dataframe(df.head())\n",
        "# Display statistical information on the dataset.\n",
        "st.subheader('Statistical Info about the Data')\n",
        "st.write(df.describe())"
      ],
      "metadata": {
        "id": "v8urpu7oK6x2"
      },
      "execution_count": null,
      "outputs": []
    },
    {
      "cell_type": "code",
      "source": [
        "# Selection for a specific time frame.\n",
        "st.subheader('Select a Date Range')\n",
        "df_select = df \n",
        "\n",
        "col1, col2 = st.columns(2)\n",
        "\n",
        "with col1:\n",
        "    st.write('Select a Start Date')\n",
        "    start_date = st.date_input('Start Date',min_value= datetime.date(2019,1,2),max_value=datetime.date(2021,11,12),value=datetime.date(2019,1,2))\n",
        "\n",
        "with col2:    \n",
        "    st.write('Select an End Date')\n",
        "    end_date = st.date_input('End Date',min_value=datetime.date(1999,1,22),max_value=datetime.date(2021,11,12),value=datetime.date(2021,11,12))\n",
        "\n",
        "if(start_date != None or end_date != None):\n",
        "    if(start_date < end_date):\n",
        "        df_select = df[start_date:end_date]\n",
        "    else:\n",
        "        st.warning(\"Invalid Date Range - Re-enter Dates\")"
      ],
      "metadata": {
        "id": "od1skjDYLA9P"
      },
      "execution_count": null,
      "outputs": []
    },
    {
      "cell_type": "code",
      "source": [
        "# Open and Close Prices.  \n",
        "st.subheader(\"Open & Close Prices for Nvidia Stock\")\n",
        "st.markdown(\"\\n\\n\")\n",
        "st.line_chart(df_select[['Open','Close']])"
      ],
      "metadata": {
        "colab": {
          "base_uri": "https://localhost:8080/"
        },
        "id": "nS-_cUKILI6-",
        "outputId": "98ca8184-b730-40bc-c3ab-d40dfa93c8d7"
      },
      "execution_count": null,
      "outputs": [
        {
          "output_type": "execute_result",
          "data": {
            "text/plain": [
              "DeltaGenerator(_root_container=0, _provided_cursor=None, _parent=None, _block_type=None, _form_data=None)"
            ]
          },
          "metadata": {},
          "execution_count": 11
        }
      ]
    },
    {
      "cell_type": "code",
      "source": [
        "# High and Low Prices. \n",
        "st.subheader(\"High and Low Prices for Nvidia Stock\")\n",
        "st.markdown(\"\\n\\n\")\n",
        "st.line_chart(df_select[['High', 'Low']])"
      ],
      "metadata": {
        "colab": {
          "base_uri": "https://localhost:8080/"
        },
        "id": "6CtIEOS1LOu-",
        "outputId": "787c5214-6c46-4341-9c44-bf222beafac9"
      },
      "execution_count": null,
      "outputs": [
        {
          "output_type": "execute_result",
          "data": {
            "text/plain": [
              "DeltaGenerator(_root_container=0, _provided_cursor=None, _parent=None, _block_type=None, _form_data=None)"
            ]
          },
          "metadata": {},
          "execution_count": 12
        }
      ]
    },
    {
      "cell_type": "code",
      "source": [
        "# Volume of Stock Traded. \n",
        "st.subheader(\"Volumn Traded for Nvidia Stock\")\n",
        "st.markdown(\"\\n\\n\")\n",
        "st.bar_chart(df_select['Volume'])"
      ],
      "metadata": {
        "colab": {
          "base_uri": "https://localhost:8080/"
        },
        "id": "kO8KmopMLSxp",
        "outputId": "7ba71d60-1739-4e50-e0db-efb017d4890c"
      },
      "execution_count": null,
      "outputs": [
        {
          "output_type": "execute_result",
          "data": {
            "text/plain": [
              "DeltaGenerator(_root_container=0, _provided_cursor=None, _parent=None, _block_type=None, _form_data=None)"
            ]
          },
          "metadata": {},
          "execution_count": 13
        }
      ]
    },
    {
      "cell_type": "code",
      "source": [
        "# Moving average from 50 days to 250 days.\n",
        "st.subheader('Moving Averages of Open and Closing Stock Prices')\n",
        "movevavg_len = st.slider('Select the number of days for Moving Averages',min_value=0,max_value=250,value=50)\n",
        "moveavg_oc =  df_select[['Open','Close']].rolling(50).mean()\n",
        "st.line_chart(moveavg_oc)"
      ],
      "metadata": {
        "colab": {
          "base_uri": "https://localhost:8080/"
        },
        "id": "XiHa3XLWLXXA",
        "outputId": "9aac9b64-6703-4560-f46e-5c970287e897"
      },
      "execution_count": null,
      "outputs": [
        {
          "output_type": "execute_result",
          "data": {
            "text/plain": [
              "DeltaGenerator(_root_container=0, _provided_cursor=None, _parent=None, _block_type=None, _form_data=None)"
            ]
          },
          "metadata": {},
          "execution_count": 14
        }
      ]
    },
    {
      "cell_type": "code",
      "source": [
        "%%writefile app.py\n",
        "# Import the libraries.\n",
        "import streamlit as st\n",
        "import pandas as pd\n",
        "import numpy as np\n",
        "import matplotlib.pyplot as plt\n",
        "import datetime\n",
        "\n",
        "# Specify title and logo for the webpage.\n",
        "st.set_page_config(page_title='Nvidia Stock Prices', \n",
        "page_icon='https://cdn.freebiesupply.com/logos/thumbs/1x/nvidia-logo.png', layout=\"wide\")\n",
        "\n",
        "# Add social media tags and links to the web page.\n",
        "\"\"\"\n",
        "[![Star](https://img.shields.io/badge/Medium-12100E?style=for-the-badge&logo=medium&logoColor=white)](https://medium.com/@hugodaher)\n",
        "[![Follow](https://img.shields.io/badge/LinkedIn-0077B5?style=for-the-badge&logo=linkedin&logoColor=white)](https://www.linkedin.com/in/hugodaher)\n",
        "[![Follow](https://img.shields.io/badge/Twitter-1DA1F2?style=for-the-badge&logo=twitter&logoColor=white)](https://twitter.com/hugodaher)\n",
        "\n",
        "# Nvidia's Stock Performance\n",
        "\n",
        "\"\"\"\n",
        "\n",
        "# Add a sidebar to the web page. \n",
        "st.markdown('---')\n",
        "# Sidebar Configuration\n",
        "st.sidebar.image('https://cdn.freebiesupply.com/logos/thumbs/1x/nvidia-logo.png', width=200)\n",
        "st.sidebar.markdown('# Nvidia Stock Price Analysis')\n",
        "st.sidebar.markdown('Nvidia is a global leader in artificial intelligence hardware and software.')\n",
        "st.sidebar.markdown('Stock Data from 2019 thru 2021')\n",
        "st.sidebar.markdown('You can visualise Nvidia \\'s Stock Prices Trends and Patterns over a given time span.') \n",
        "\n",
        "st.sidebar.markdown('---')\n",
        "st.sidebar.write('Developed by Hugo Daher')\n",
        "st.sidebar.write('Contact at hugodaher@hotmail.com')\n",
        "\n",
        "# Import the dataset into a dataframe. \n",
        "df = pd.read_csv('NVidia_stock_history.csv')\n",
        "\n",
        "# Delete rows where date is before 1/1/2019.\n",
        "df['Date'] = pd.to_datetime(df['Date'])\n",
        "df = df[~(df['Date'] < '2019-01-01')]\n",
        "\n",
        "# Reset the index to the Date column. \n",
        "df['Date'] = pd.to_datetime(df['Date'],format='%Y/%m/%d')\n",
        "df.reset_index(drop=True,inplace=True)\n",
        "df.set_index('Date',inplace=True)\n",
        "\n",
        "# Display the Data in the App.\n",
        "st.subheader('Looking at the Data')\n",
        "st.dataframe(df.head())\n",
        "\n",
        "# Display statistical information on the dataset.\n",
        "st.subheader('Statistical Info about the Data')\n",
        "st.write(df.describe())\n",
        "\n",
        "# Selection for a specific time frame.\n",
        "st.subheader('Select a Date Range')\n",
        "df_select = df\n",
        "\n",
        "col1, col2 = st.columns(2)\n",
        "\n",
        "with col1:\n",
        "    st.write('Select a Start Date')\n",
        "    start_date = st.date_input('Start Date',min_value= datetime.date(2019,1,2),max_value=datetime.date(2021,11,12),value=datetime.date(2019,1,2))\n",
        "\n",
        "with col2:    \n",
        "    st.write('Select an End Date')\n",
        "    end_date = st.date_input('End Date',min_value=datetime.date(1999,1,22),max_value=datetime.date(2021,11,12),value=datetime.date(2021,11,12))\n",
        "\n",
        "if(start_date != None or end_date != None):\n",
        "    if(start_date < end_date):\n",
        "        df_select = df[start_date:end_date]\n",
        "    else:\n",
        "        st.warning(\"Invalid Date Range - Re-enter Dates\")\n",
        "\n",
        "# Graphs and charts for selected date range.\n",
        "\n",
        "# Open & Close Prices.  \n",
        "st.subheader(\"Open & Close Prices for Nvidia Stock\")\n",
        "st.markdown(\"\\n\\n\")\n",
        "st.line_chart(df_select[['Open','Close']])\n",
        "\n",
        "# High and Low Values. \n",
        "st.subheader(\"High and Low Prices for Nvidia Stock\")\n",
        "st.markdown(\"\\n\\n\")\n",
        "st.line_chart(df_select[['High', 'Low']])\n",
        "\n",
        "# Volume of Stock Traded.\n",
        "st.subheader(\"Volumn Traded for Nvidia Stock\")\n",
        "st.markdown(\"\\n\\n\")\n",
        "st.bar_chart(df_select['Volume'])\n",
        "\n",
        "# Moving average from 50 days to 250 days.\n",
        "st.subheader('Moving Averages of Open and Closing Stock Prices')\n",
        "movevavg_len = st.slider('Select the number of days for Moving Averages',min_value=0,max_value=250,value=50)\n",
        "moveavg_oc =  df_select[['Open','Close']].rolling(50).mean()\n",
        "st.line_chart(moveavg_oc)"
      ],
      "metadata": {
        "colab": {
          "base_uri": "https://localhost:8080/"
        },
        "id": "X32TXamgLpHq",
        "outputId": "0aa9ed4a-15cf-47a1-f81d-c4c7442b11f9"
      },
      "execution_count": null,
      "outputs": [
        {
          "output_type": "stream",
          "name": "stdout",
          "text": [
            "Writing app.py\n"
          ]
        }
      ]
    },
    {
      "cell_type": "code",
      "source": [
        "!streamlit run app.py & npx localtunnel --port 8501"
      ],
      "metadata": {
        "colab": {
          "base_uri": "https://localhost:8080/"
        },
        "id": "O-ZJB8KcL9s0",
        "outputId": "4552ac25-b659-4b45-bb07-87930c833e48"
      },
      "execution_count": null,
      "outputs": [
        {
          "output_type": "stream",
          "name": "stdout",
          "text": [
            "[..................] \\ fetchMetadata: sill resolveWithNewModule localtunnel@2.0\u001b[0m\u001b[K\n",
            "Collecting usage statistics. To deactivate, set browser.gatherUsageStats to False.\n",
            "\u001b[0m\n",
            "\u001b[0m\n",
            "\u001b[34m\u001b[1m  You can now view your Streamlit app in your browser.\u001b[0m\n",
            "\u001b[0m\n",
            "\u001b[34m  Network URL: \u001b[0m\u001b[1mhttp://172.28.0.12:8501\u001b[0m\n",
            "\u001b[34m  External URL: \u001b[0m\u001b[1mhttp://34.125.4.227:8501\u001b[0m\n",
            "\u001b[0m\n",
            "\u001b[K\u001b[?25hnpx: installed 22 in 4.245s\n",
            "your url is: https://bright-eggs-boil-34-125-4-227.loca.lt\n",
            "\u001b[34m  Stopping...\u001b[0m\n",
            "^C\n"
          ]
        }
      ]
    }
  ]
}